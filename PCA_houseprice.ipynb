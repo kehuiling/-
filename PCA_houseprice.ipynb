{
 "cells": [
  {
   "cell_type": "code",
   "execution_count": 1,
   "metadata": {},
   "outputs": [
    {
     "data": {
      "text/html": [
       "<div>\n",
       "<style>\n",
       "    .dataframe thead tr:only-child th {\n",
       "        text-align: right;\n",
       "    }\n",
       "\n",
       "    .dataframe thead th {\n",
       "        text-align: left;\n",
       "    }\n",
       "\n",
       "    .dataframe tbody tr th {\n",
       "        vertical-align: top;\n",
       "    }\n",
       "</style>\n",
       "<table border=\"1\" class=\"dataframe\">\n",
       "  <thead>\n",
       "    <tr style=\"text-align: right;\">\n",
       "      <th></th>\n",
       "      <th>CRIM</th>\n",
       "      <th>ZN</th>\n",
       "      <th>INDUS</th>\n",
       "      <th>CHAS</th>\n",
       "      <th>NOX</th>\n",
       "      <th>RM</th>\n",
       "      <th>AGE</th>\n",
       "      <th>DIS</th>\n",
       "      <th>RAD</th>\n",
       "      <th>TAX</th>\n",
       "      <th>PTRATIO</th>\n",
       "      <th>B</th>\n",
       "      <th>LSTAT</th>\n",
       "      <th>MEDV</th>\n",
       "    </tr>\n",
       "  </thead>\n",
       "  <tbody>\n",
       "    <tr>\n",
       "      <th>0</th>\n",
       "      <td>0.00632</td>\n",
       "      <td>18.0</td>\n",
       "      <td>2.31</td>\n",
       "      <td>0.0</td>\n",
       "      <td>0.538</td>\n",
       "      <td>6.575</td>\n",
       "      <td>65.2</td>\n",
       "      <td>4.0900</td>\n",
       "      <td>1.0</td>\n",
       "      <td>296.0</td>\n",
       "      <td>15.3</td>\n",
       "      <td>396.90</td>\n",
       "      <td>4.98</td>\n",
       "      <td>24.0</td>\n",
       "    </tr>\n",
       "    <tr>\n",
       "      <th>1</th>\n",
       "      <td>0.02731</td>\n",
       "      <td>0.0</td>\n",
       "      <td>7.07</td>\n",
       "      <td>0.0</td>\n",
       "      <td>0.469</td>\n",
       "      <td>6.421</td>\n",
       "      <td>78.9</td>\n",
       "      <td>4.9671</td>\n",
       "      <td>2.0</td>\n",
       "      <td>242.0</td>\n",
       "      <td>17.8</td>\n",
       "      <td>396.90</td>\n",
       "      <td>9.14</td>\n",
       "      <td>21.6</td>\n",
       "    </tr>\n",
       "    <tr>\n",
       "      <th>2</th>\n",
       "      <td>0.02729</td>\n",
       "      <td>0.0</td>\n",
       "      <td>7.07</td>\n",
       "      <td>0.0</td>\n",
       "      <td>0.469</td>\n",
       "      <td>7.185</td>\n",
       "      <td>61.1</td>\n",
       "      <td>4.9671</td>\n",
       "      <td>2.0</td>\n",
       "      <td>242.0</td>\n",
       "      <td>17.8</td>\n",
       "      <td>392.83</td>\n",
       "      <td>4.03</td>\n",
       "      <td>34.7</td>\n",
       "    </tr>\n",
       "    <tr>\n",
       "      <th>3</th>\n",
       "      <td>0.03237</td>\n",
       "      <td>0.0</td>\n",
       "      <td>2.18</td>\n",
       "      <td>0.0</td>\n",
       "      <td>0.458</td>\n",
       "      <td>6.998</td>\n",
       "      <td>45.8</td>\n",
       "      <td>6.0622</td>\n",
       "      <td>3.0</td>\n",
       "      <td>222.0</td>\n",
       "      <td>18.7</td>\n",
       "      <td>394.63</td>\n",
       "      <td>2.94</td>\n",
       "      <td>33.4</td>\n",
       "    </tr>\n",
       "    <tr>\n",
       "      <th>4</th>\n",
       "      <td>0.06905</td>\n",
       "      <td>0.0</td>\n",
       "      <td>2.18</td>\n",
       "      <td>0.0</td>\n",
       "      <td>0.458</td>\n",
       "      <td>7.147</td>\n",
       "      <td>54.2</td>\n",
       "      <td>6.0622</td>\n",
       "      <td>3.0</td>\n",
       "      <td>222.0</td>\n",
       "      <td>18.7</td>\n",
       "      <td>396.90</td>\n",
       "      <td>5.33</td>\n",
       "      <td>36.2</td>\n",
       "    </tr>\n",
       "  </tbody>\n",
       "</table>\n",
       "</div>"
      ],
      "text/plain": [
       "      CRIM    ZN  INDUS  CHAS    NOX     RM   AGE     DIS  RAD    TAX  \\\n",
       "0  0.00632  18.0   2.31   0.0  0.538  6.575  65.2  4.0900  1.0  296.0   \n",
       "1  0.02731   0.0   7.07   0.0  0.469  6.421  78.9  4.9671  2.0  242.0   \n",
       "2  0.02729   0.0   7.07   0.0  0.469  7.185  61.1  4.9671  2.0  242.0   \n",
       "3  0.03237   0.0   2.18   0.0  0.458  6.998  45.8  6.0622  3.0  222.0   \n",
       "4  0.06905   0.0   2.18   0.0  0.458  7.147  54.2  6.0622  3.0  222.0   \n",
       "\n",
       "   PTRATIO       B  LSTAT  MEDV  \n",
       "0     15.3  396.90   4.98  24.0  \n",
       "1     17.8  396.90   9.14  21.6  \n",
       "2     17.8  392.83   4.03  34.7  \n",
       "3     18.7  394.63   2.94  33.4  \n",
       "4     18.7  396.90   5.33  36.2  "
      ]
     },
     "execution_count": 1,
     "metadata": {},
     "output_type": "execute_result"
    }
   ],
   "source": [
    "import sklearn.datasets as datasets\n",
    "import pandas as pd\n",
    "import numpy as np\n",
    "data = datasets.load_boston()\n",
    "df = pd.DataFrame(data.data,columns = ['CRIM', 'ZN', 'INDUS', 'CHAS', 'NOX', 'RM', 'AGE', 'DIS', 'RAD', 'TAX', 'PTRATIO', 'B', 'LSTAT'])\n",
    "df['MEDV'] = data.target\n",
    "df.head()"
   ]
  },
  {
   "cell_type": "code",
   "execution_count": 2,
   "metadata": {
    "collapsed": true
   },
   "outputs": [],
   "source": [
    "pre = df"
   ]
  },
  {
   "cell_type": "code",
   "execution_count": 3,
   "metadata": {
    "collapsed": true
   },
   "outputs": [],
   "source": [
    "df = df[df['MEDV']<50]"
   ]
  },
  {
   "cell_type": "code",
   "execution_count": 4,
   "metadata": {},
   "outputs": [
    {
     "data": {
      "text/plain": [
       "(490, 14)"
      ]
     },
     "execution_count": 4,
     "metadata": {},
     "output_type": "execute_result"
    }
   ],
   "source": [
    "df.shape"
   ]
  },
  {
   "cell_type": "code",
   "execution_count": 5,
   "metadata": {
    "scrolled": true
   },
   "outputs": [
    {
     "name": "stderr",
     "output_type": "stream",
     "text": [
      "C:\\Program Files (x86)\\Microsoft Visual Studio\\Shared\\Anaconda3_64\\lib\\site-packages\\ipykernel_launcher.py:11: SettingWithCopyWarning: \n",
      "A value is trying to be set on a copy of a slice from a DataFrame.\n",
      "Try using .loc[row_indexer,col_indexer] = value instead\n",
      "\n",
      "See the caveats in the documentation: http://pandas.pydata.org/pandas-docs/stable/indexing.html#indexing-view-versus-copy\n",
      "  # This is added back by InteractiveShellApp.init_path()\n"
     ]
    },
    {
     "data": {
      "text/html": [
       "<div>\n",
       "<style>\n",
       "    .dataframe thead tr:only-child th {\n",
       "        text-align: right;\n",
       "    }\n",
       "\n",
       "    .dataframe thead th {\n",
       "        text-align: left;\n",
       "    }\n",
       "\n",
       "    .dataframe tbody tr th {\n",
       "        vertical-align: top;\n",
       "    }\n",
       "</style>\n",
       "<table border=\"1\" class=\"dataframe\">\n",
       "  <thead>\n",
       "    <tr style=\"text-align: right;\">\n",
       "      <th></th>\n",
       "      <th>CRIM</th>\n",
       "      <th>ZN</th>\n",
       "      <th>INDUS</th>\n",
       "      <th>CHAS</th>\n",
       "      <th>NOX</th>\n",
       "      <th>RM</th>\n",
       "      <th>AGE</th>\n",
       "      <th>DIS</th>\n",
       "      <th>RAD</th>\n",
       "      <th>TAX</th>\n",
       "      <th>PTRATIO</th>\n",
       "      <th>B</th>\n",
       "      <th>LSTAT</th>\n",
       "      <th>MEDV</th>\n",
       "    </tr>\n",
       "  </thead>\n",
       "  <tbody>\n",
       "    <tr>\n",
       "      <th>0</th>\n",
       "      <td>-0.069343</td>\n",
       "      <td>1.44</td>\n",
       "      <td>-0.571650</td>\n",
       "      <td>0.0</td>\n",
       "      <td>0.000000</td>\n",
       "      <td>0.559541</td>\n",
       "      <td>-0.235175</td>\n",
       "      <td>0.262313</td>\n",
       "      <td>-0.20</td>\n",
       "      <td>-0.088140</td>\n",
       "      <td>-1.357143</td>\n",
       "      <td>0.251347</td>\n",
       "      <td>-0.685261</td>\n",
       "      <td>0.388715</td>\n",
       "    </tr>\n",
       "    <tr>\n",
       "      <th>1</th>\n",
       "      <td>-0.063308</td>\n",
       "      <td>0.00</td>\n",
       "      <td>-0.202943</td>\n",
       "      <td>0.0</td>\n",
       "      <td>-0.394286</td>\n",
       "      <td>0.338594</td>\n",
       "      <td>0.042575</td>\n",
       "      <td>0.544924</td>\n",
       "      <td>-0.15</td>\n",
       "      <td>-0.228127</td>\n",
       "      <td>-0.464286</td>\n",
       "      <td>0.251347</td>\n",
       "      <td>-0.259468</td>\n",
       "      <td>0.087774</td>\n",
       "    </tr>\n",
       "    <tr>\n",
       "      <th>2</th>\n",
       "      <td>-0.063314</td>\n",
       "      <td>0.00</td>\n",
       "      <td>-0.202943</td>\n",
       "      <td>0.0</td>\n",
       "      <td>-0.394286</td>\n",
       "      <td>1.434720</td>\n",
       "      <td>-0.318297</td>\n",
       "      <td>0.544924</td>\n",
       "      <td>-0.15</td>\n",
       "      <td>-0.228127</td>\n",
       "      <td>-0.464286</td>\n",
       "      <td>0.051935</td>\n",
       "      <td>-0.782497</td>\n",
       "      <td>1.730408</td>\n",
       "    </tr>\n",
       "    <tr>\n",
       "      <th>3</th>\n",
       "      <td>-0.061854</td>\n",
       "      <td>0.00</td>\n",
       "      <td>-0.581720</td>\n",
       "      <td>0.0</td>\n",
       "      <td>-0.457143</td>\n",
       "      <td>1.166428</td>\n",
       "      <td>-0.628485</td>\n",
       "      <td>0.897778</td>\n",
       "      <td>-0.10</td>\n",
       "      <td>-0.279974</td>\n",
       "      <td>-0.142857</td>\n",
       "      <td>0.140127</td>\n",
       "      <td>-0.894063</td>\n",
       "      <td>1.567398</td>\n",
       "    </tr>\n",
       "    <tr>\n",
       "      <th>4</th>\n",
       "      <td>-0.051308</td>\n",
       "      <td>0.00</td>\n",
       "      <td>-0.581720</td>\n",
       "      <td>0.0</td>\n",
       "      <td>-0.457143</td>\n",
       "      <td>1.380201</td>\n",
       "      <td>-0.458186</td>\n",
       "      <td>0.897778</td>\n",
       "      <td>-0.10</td>\n",
       "      <td>-0.279974</td>\n",
       "      <td>-0.142857</td>\n",
       "      <td>0.251347</td>\n",
       "      <td>-0.649437</td>\n",
       "      <td>1.918495</td>\n",
       "    </tr>\n",
       "  </tbody>\n",
       "</table>\n",
       "</div>"
      ],
      "text/plain": [
       "       CRIM    ZN     INDUS  CHAS       NOX        RM       AGE       DIS  \\\n",
       "0 -0.069343  1.44 -0.571650   0.0  0.000000  0.559541 -0.235175  0.262313   \n",
       "1 -0.063308  0.00 -0.202943   0.0 -0.394286  0.338594  0.042575  0.544924   \n",
       "2 -0.063314  0.00 -0.202943   0.0 -0.394286  1.434720 -0.318297  0.544924   \n",
       "3 -0.061854  0.00 -0.581720   0.0 -0.457143  1.166428 -0.628485  0.897778   \n",
       "4 -0.051308  0.00 -0.581720   0.0 -0.457143  1.380201 -0.458186  0.897778   \n",
       "\n",
       "    RAD       TAX   PTRATIO         B     LSTAT      MEDV  \n",
       "0 -0.20 -0.088140 -1.357143  0.251347 -0.685261  0.388715  \n",
       "1 -0.15 -0.228127 -0.464286  0.251347 -0.259468  0.087774  \n",
       "2 -0.15 -0.228127 -0.464286  0.051935 -0.782497  1.730408  \n",
       "3 -0.10 -0.279974 -0.142857  0.140127 -0.894063  1.567398  \n",
       "4 -0.10 -0.279974 -0.142857  0.251347 -0.649437  1.918495  "
      ]
     },
     "execution_count": 5,
     "metadata": {},
     "output_type": "execute_result"
    }
   ],
   "source": [
    "from sklearn.preprocessing import MinMaxScaler\n",
    "from sklearn.preprocessing import minmax_scale\n",
    "from sklearn.preprocessing import MaxAbsScaler\n",
    "from sklearn.preprocessing import StandardScaler\n",
    "from sklearn.preprocessing import RobustScaler\n",
    "from sklearn.preprocessing import Normalizer\n",
    "from sklearn.preprocessing import QuantileTransformer\n",
    "\n",
    "scaler = RobustScaler()\n",
    "for feature in df.columns:\n",
    "    df[feature] = scaler.fit_transform(df[[feature]])\n",
    "df.head()"
   ]
  },
  {
   "cell_type": "code",
   "execution_count": 6,
   "metadata": {},
   "outputs": [
    {
     "data": {
      "text/plain": [
       "CRIM       0.970418\n",
       "ZN         0.888980\n",
       "INDUS      0.110236\n",
       "CHAS       0.059184\n",
       "NOX        0.093185\n",
       "RM         0.086760\n",
       "AGE       -0.172753\n",
       "DIS        0.179993\n",
       "RAD        0.225714\n",
       "TAX        0.202209\n",
       "PTRATIO   -0.207143\n",
       "B         -1.759655\n",
       "LSTAT      0.127842\n",
       "dtype: float64"
      ]
     },
     "execution_count": 6,
     "metadata": {},
     "output_type": "execute_result"
    }
   ],
   "source": [
    "dataSet = df.iloc[:,:-1]\n",
    "#计算均值\n",
    "meanVals = dataSet.mean(0)\n",
    "meanVals"
   ]
  },
  {
   "cell_type": "code",
   "execution_count": 7,
   "metadata": {},
   "outputs": [
    {
     "data": {
      "text/html": [
       "<div>\n",
       "<style>\n",
       "    .dataframe thead tr:only-child th {\n",
       "        text-align: right;\n",
       "    }\n",
       "\n",
       "    .dataframe thead th {\n",
       "        text-align: left;\n",
       "    }\n",
       "\n",
       "    .dataframe tbody tr th {\n",
       "        vertical-align: top;\n",
       "    }\n",
       "</style>\n",
       "<table border=\"1\" class=\"dataframe\">\n",
       "  <thead>\n",
       "    <tr style=\"text-align: right;\">\n",
       "      <th></th>\n",
       "      <th>CRIM</th>\n",
       "      <th>ZN</th>\n",
       "      <th>INDUS</th>\n",
       "      <th>CHAS</th>\n",
       "      <th>NOX</th>\n",
       "      <th>RM</th>\n",
       "      <th>AGE</th>\n",
       "      <th>DIS</th>\n",
       "      <th>RAD</th>\n",
       "      <th>TAX</th>\n",
       "      <th>PTRATIO</th>\n",
       "      <th>B</th>\n",
       "      <th>LSTAT</th>\n",
       "    </tr>\n",
       "  </thead>\n",
       "  <tbody>\n",
       "    <tr>\n",
       "      <th>0</th>\n",
       "      <td>-1.039761</td>\n",
       "      <td>0.55102</td>\n",
       "      <td>-0.681886</td>\n",
       "      <td>-0.059184</td>\n",
       "      <td>-0.093185</td>\n",
       "      <td>0.472781</td>\n",
       "      <td>-0.062422</td>\n",
       "      <td>0.082319</td>\n",
       "      <td>-0.425714</td>\n",
       "      <td>-0.290349</td>\n",
       "      <td>-1.150000</td>\n",
       "      <td>2.011002</td>\n",
       "      <td>-0.813103</td>\n",
       "    </tr>\n",
       "    <tr>\n",
       "      <th>1</th>\n",
       "      <td>-1.033726</td>\n",
       "      <td>-0.88898</td>\n",
       "      <td>-0.313179</td>\n",
       "      <td>-0.059184</td>\n",
       "      <td>-0.487471</td>\n",
       "      <td>0.251834</td>\n",
       "      <td>0.215327</td>\n",
       "      <td>0.364931</td>\n",
       "      <td>-0.375714</td>\n",
       "      <td>-0.430336</td>\n",
       "      <td>-0.257143</td>\n",
       "      <td>2.011002</td>\n",
       "      <td>-0.387310</td>\n",
       "    </tr>\n",
       "    <tr>\n",
       "      <th>2</th>\n",
       "      <td>-1.033732</td>\n",
       "      <td>-0.88898</td>\n",
       "      <td>-0.313179</td>\n",
       "      <td>-0.059184</td>\n",
       "      <td>-0.487471</td>\n",
       "      <td>1.347961</td>\n",
       "      <td>-0.145544</td>\n",
       "      <td>0.364931</td>\n",
       "      <td>-0.375714</td>\n",
       "      <td>-0.430336</td>\n",
       "      <td>-0.257143</td>\n",
       "      <td>1.811590</td>\n",
       "      <td>-0.910340</td>\n",
       "    </tr>\n",
       "    <tr>\n",
       "      <th>3</th>\n",
       "      <td>-1.032271</td>\n",
       "      <td>-0.88898</td>\n",
       "      <td>-0.691955</td>\n",
       "      <td>-0.059184</td>\n",
       "      <td>-0.550328</td>\n",
       "      <td>1.079668</td>\n",
       "      <td>-0.455732</td>\n",
       "      <td>0.717785</td>\n",
       "      <td>-0.325714</td>\n",
       "      <td>-0.482183</td>\n",
       "      <td>0.064286</td>\n",
       "      <td>1.899782</td>\n",
       "      <td>-1.021906</td>\n",
       "    </tr>\n",
       "    <tr>\n",
       "      <th>4</th>\n",
       "      <td>-1.021725</td>\n",
       "      <td>-0.88898</td>\n",
       "      <td>-0.691955</td>\n",
       "      <td>-0.059184</td>\n",
       "      <td>-0.550328</td>\n",
       "      <td>1.293441</td>\n",
       "      <td>-0.285433</td>\n",
       "      <td>0.717785</td>\n",
       "      <td>-0.325714</td>\n",
       "      <td>-0.482183</td>\n",
       "      <td>0.064286</td>\n",
       "      <td>2.011002</td>\n",
       "      <td>-0.777279</td>\n",
       "    </tr>\n",
       "  </tbody>\n",
       "</table>\n",
       "</div>"
      ],
      "text/plain": [
       "       CRIM       ZN     INDUS      CHAS       NOX        RM       AGE  \\\n",
       "0 -1.039761  0.55102 -0.681886 -0.059184 -0.093185  0.472781 -0.062422   \n",
       "1 -1.033726 -0.88898 -0.313179 -0.059184 -0.487471  0.251834  0.215327   \n",
       "2 -1.033732 -0.88898 -0.313179 -0.059184 -0.487471  1.347961 -0.145544   \n",
       "3 -1.032271 -0.88898 -0.691955 -0.059184 -0.550328  1.079668 -0.455732   \n",
       "4 -1.021725 -0.88898 -0.691955 -0.059184 -0.550328  1.293441 -0.285433   \n",
       "\n",
       "        DIS       RAD       TAX   PTRATIO         B     LSTAT  \n",
       "0  0.082319 -0.425714 -0.290349 -1.150000  2.011002 -0.813103  \n",
       "1  0.364931 -0.375714 -0.430336 -0.257143  2.011002 -0.387310  \n",
       "2  0.364931 -0.375714 -0.430336 -0.257143  1.811590 -0.910340  \n",
       "3  0.717785 -0.325714 -0.482183  0.064286  1.899782 -1.021906  \n",
       "4  0.717785 -0.325714 -0.482183  0.064286  2.011002 -0.777279  "
      ]
     },
     "execution_count": 7,
     "metadata": {},
     "output_type": "execute_result"
    }
   ],
   "source": [
    "meanRemoved = dataSet - meanVals\n",
    "meanRemoved.head()"
   ]
  },
  {
   "cell_type": "code",
   "execution_count": 8,
   "metadata": {},
   "outputs": [
    {
     "data": {
      "text/plain": [
       "matrix([[ 6.28141877e+00, -9.07113750e-01,  5.37478586e-01,\n",
       "         -3.76856033e-02,  6.96826634e-01, -5.17144944e-01,\n",
       "          5.03367678e-01, -6.48138827e-01,  6.79479879e-01,\n",
       "          6.33797697e-01,  5.39086590e-01, -4.28558681e+00,\n",
       "          8.32830040e-01],\n",
       "        [-9.07113750e-01,  3.34001245e+00, -5.09008541e-01,\n",
       "         -2.32728183e-02, -6.24089983e-01,  5.31768948e-01,\n",
       "         -5.87710431e-01,  8.36467021e-01, -2.44394975e-01,\n",
       "         -2.41179595e-01, -5.25956763e-01,  1.46084868e+00,\n",
       "         -5.59258213e-01],\n",
       "        [ 5.37478586e-01, -5.09008541e-01,  2.79178583e-01,\n",
       "          4.46996703e-03,  2.69573926e-01, -2.04198133e-01,\n",
       "          1.92477975e-01, -2.55144535e-01,  1.36877518e-01,\n",
       "          1.65212293e-01,  1.54387065e-01, -8.71459208e-01,\n",
       "          2.43832318e-01],\n",
       "        [-3.76856033e-02, -2.32728183e-02,  4.46996703e-03,\n",
       "          5.57948333e-02,  1.34850942e-02,  9.95598599e-03,\n",
       "          9.60241758e-03, -1.24783842e-02, -3.36546889e-03,\n",
       "         -6.97156859e-03, -2.08004674e-02,  4.47134339e-02,\n",
       "         -1.11073962e-03],\n",
       "        [ 6.96826634e-01, -6.24089983e-01,  2.69573926e-01,\n",
       "          1.34850942e-02,  4.44605337e-01, -2.01577555e-01,\n",
       "          2.77052490e-01, -3.48201389e-01,  1.77381039e-01,\n",
       "          1.93879729e-01,  9.46775093e-02, -1.15934634e+00,\n",
       "          2.96065195e-01],\n",
       "        [-5.17144944e-01,  5.31768948e-01, -2.04198133e-01,\n",
       "          9.95598599e-03, -2.01577555e-01,  8.78125662e-01,\n",
       "         -1.43649165e-01,  1.56586483e-01, -7.97212711e-02,\n",
       "         -1.15114565e-01, -2.07162850e-01,  5.06989925e-01,\n",
       "         -4.14671942e-01],\n",
       "        [ 5.03367678e-01, -5.87710431e-01,  1.92477975e-01,\n",
       "          9.60241758e-03,  2.77052490e-01, -1.43649165e-01,\n",
       "          3.26045982e-01, -2.88447370e-01,  1.12143378e-01,\n",
       "          1.24309788e-01,  1.15542233e-01, -7.23061208e-01,\n",
       "          2.64065297e-01],\n",
       "        [-6.48138827e-01,  8.36467021e-01, -2.55144535e-01,\n",
       "         -1.24783842e-02, -3.48201389e-01,  1.56586483e-01,\n",
       "         -2.88447370e-01,  4.62195714e-01, -1.45319061e-01,\n",
       "         -1.57585653e-01, -1.26454048e-01,  9.23913469e-01,\n",
       "         -2.64430047e-01],\n",
       "        [ 6.79479879e-01, -2.44394975e-01,  1.36877518e-01,\n",
       "         -3.36546889e-03,  1.77381039e-01, -7.97212711e-02,\n",
       "          1.12143378e-01, -1.45319061e-01,  1.88846626e-01,\n",
       "          1.72103712e-01,  1.49374087e-01, -8.90580889e-01,\n",
       "          1.60739198e-01],\n",
       "        [ 6.33797697e-01, -2.41179595e-01,  1.65212293e-01,\n",
       "         -6.97156859e-03,  1.93879729e-01, -1.15114565e-01,\n",
       "          1.24309788e-01, -1.57585653e-01,  1.72103712e-01,\n",
       "          1.89820744e-01,  1.48516658e-01, -8.86305598e-01,\n",
       "          1.78928827e-01],\n",
       "        [ 5.39086590e-01, -5.25956763e-01,  1.54387065e-01,\n",
       "         -2.08004674e-02,  9.46775093e-02, -2.07162850e-01,\n",
       "          1.15542233e-01, -1.26454048e-01,  1.49374087e-01,\n",
       "          1.48516658e-01,  5.68127374e-01, -5.94007029e-01,\n",
       "          1.95644701e-01],\n",
       "        [-4.28558681e+00,  1.46084868e+00, -8.71459208e-01,\n",
       "          4.47134339e-02, -1.15934634e+00,  5.06989925e-01,\n",
       "         -7.23061208e-01,  9.23913469e-01, -8.90580889e-01,\n",
       "         -8.86305598e-01, -5.94007029e-01,  2.05995335e+01,\n",
       "         -1.19806779e+00],\n",
       "        [ 8.32830040e-01, -5.59258213e-01,  2.43832318e-01,\n",
       "         -1.11073962e-03,  2.96065195e-01, -4.14671942e-01,\n",
       "          2.64065297e-01, -2.64430047e-01,  1.60739198e-01,\n",
       "          1.78928827e-01,  1.95644701e-01, -1.19806779e+00,\n",
       "          5.25614580e-01]])"
      ]
     },
     "execution_count": 8,
     "metadata": {},
     "output_type": "execute_result"
    }
   ],
   "source": [
    "covMat = np.mat(np.cov(meanRemoved,rowvar = 0))\n",
    "covMat"
   ]
  },
  {
   "cell_type": "code",
   "execution_count": 9,
   "metadata": {},
   "outputs": [
    {
     "data": {
      "text/plain": [
       "(13, 13)"
      ]
     },
     "execution_count": 9,
     "metadata": {},
     "output_type": "execute_result"
    }
   ],
   "source": [
    "covMat.shape"
   ]
  },
  {
   "cell_type": "code",
   "execution_count": 10,
   "metadata": {},
   "outputs": [
    {
     "data": {
      "text/plain": [
       "array([2.24327874e+01, 5.70386531e+00, 3.49709650e+00, 9.05773291e-01,\n",
       "       5.66606882e-01, 4.50320187e-01, 1.73664976e-01, 1.24959474e-01,\n",
       "       1.26725615e-02, 8.43917879e-02, 5.30237215e-02, 7.02600558e-02,\n",
       "       6.38980029e-02])"
      ]
     },
     "execution_count": 10,
     "metadata": {},
     "output_type": "execute_result"
    }
   ],
   "source": [
    "#计算方差矩阵的特征值和右特征向量\n",
    "eigVals,eigVects = np.linalg.eig(covMat)\n",
    "eigVals"
   ]
  },
  {
   "cell_type": "code",
   "execution_count": 11,
   "metadata": {},
   "outputs": [
    {
     "data": {
      "text/plain": [
       "(13,)"
      ]
     },
     "execution_count": 11,
     "metadata": {},
     "output_type": "execute_result"
    }
   ],
   "source": [
    "eigVals.shape"
   ]
  },
  {
   "cell_type": "code",
   "execution_count": 12,
   "metadata": {},
   "outputs": [
    {
     "data": {
      "text/plain": [
       "matrix([[-2.74039832e-01,  8.17598734e-01, -4.65535632e-01,\n",
       "         -1.36851803e-01,  8.45664335e-02, -1.01893534e-01,\n",
       "         -7.84890315e-03, -3.70839782e-02,  7.87408230e-03,\n",
       "         -9.78523446e-03, -1.83883419e-03, -4.29487420e-02,\n",
       "          2.51216171e-03],\n",
       "        [ 9.77941730e-02, -3.38112381e-01, -8.16586820e-01,\n",
       "          3.24905280e-01, -2.30630814e-01,  1.71056646e-01,\n",
       "         -6.81474209e-04, -1.40013917e-01, -1.81893040e-02,\n",
       "          3.25461264e-02,  6.09432986e-03,  6.40351693e-03,\n",
       "          1.46726093e-02],\n",
       "        [-4.98690369e-02,  9.46952676e-02,  1.06620705e-01,\n",
       "          1.48918698e-01, -2.42819211e-01,  1.72192931e-01,\n",
       "          2.56942692e-01,  7.89486185e-02, -1.85032230e-01,\n",
       "          2.95067926e-01, -3.06652460e-03, -6.41977572e-01,\n",
       "         -5.10578606e-01],\n",
       "        [ 2.22391978e-03, -1.46361879e-03,  1.11929009e-02,\n",
       "         -1.30689716e-02, -5.11310432e-02, -3.01580317e-02,\n",
       "         -3.68575647e-03, -1.26637252e-02,  8.33103030e-02,\n",
       "         -3.74855043e-02,  9.72827023e-01, -1.49016769e-01,\n",
       "          1.38039138e-01],\n",
       "        [-6.55262432e-02,  1.16083323e-01,  1.26345787e-01,\n",
       "          1.20557006e-01, -5.03117949e-01,  6.71094568e-02,\n",
       "          2.85620493e-01,  7.57163310e-02,  1.69483676e-02,\n",
       "         -3.95509470e-01, -1.62799685e-01, -2.58008344e-01,\n",
       "          5.97497544e-01],\n",
       "        [ 3.51092830e-02, -1.26571175e-01, -1.34794996e-01,\n",
       "         -7.99198537e-01, -2.83026293e-01,  3.45668085e-01,\n",
       "         -2.65673666e-01,  1.70046076e-01,  1.83623508e-02,\n",
       "          9.64188842e-02, -3.51180141e-02, -1.15642356e-01,\n",
       "          5.03031255e-02],\n",
       "        [-4.34776383e-02,  1.02270126e-01,  1.30785238e-01,\n",
       "          6.90265565e-02, -3.54036799e-01,  9.95016922e-02,\n",
       "         -3.96715209e-01, -3.44353386e-01, -2.07455089e-02,\n",
       "         -5.73192496e-01,  4.13750452e-02,  1.21660975e-01,\n",
       "         -4.57255857e-01],\n",
       "        [ 5.56751613e-02, -1.33663420e-01, -1.82860470e-01,\n",
       "          1.34602895e-02,  4.10717710e-01, -5.77980623e-02,\n",
       "         -1.08293203e-01,  5.52175340e-01, -6.75422505e-03,\n",
       "         -5.62070420e-01, -2.80435767e-02, -3.51225474e-01,\n",
       "         -1.29019405e-01],\n",
       "        [-4.99139520e-02,  8.60729159e-02,  2.24613909e-03,\n",
       "          3.71435095e-02, -1.06841787e-01,  2.54227924e-01,\n",
       "          2.26234628e-01,  4.05936471e-01, -6.48344954e-01,\n",
       "         -6.43958080e-02,  1.48968585e-01,  4.93780175e-01,\n",
       "         -7.86977441e-02],\n",
       "        [-4.94391823e-02,  8.20946711e-02,  1.20266691e-02,\n",
       "          9.32623539e-02, -1.48237924e-01,  2.56986691e-01,\n",
       "          2.63543522e-01,  3.65235668e-01,  7.32643022e-01,\n",
       "          4.55766659e-03,  2.63995037e-02,  3.03260535e-01,\n",
       "         -2.48302932e-01],\n",
       "        [-3.75726435e-02,  1.08496955e-01,  1.01013056e-01,\n",
       "          1.48051447e-01,  4.31138698e-01,  8.12657963e-01,\n",
       "         -5.28617690e-02, -2.47393846e-01,  1.07521788e-02,\n",
       "         -4.31041897e-02,  2.44846482e-03, -9.49330188e-02,\n",
       "          1.82785017e-01],\n",
       "        [ 9.44049141e-01,  3.25787673e-01, -2.30133417e-03,\n",
       "          1.72058465e-02, -3.81134446e-02,  2.31495171e-02,\n",
       "          1.77072225e-03,  1.79267628e-02, -6.31290972e-04,\n",
       "          2.70334921e-03, -2.19897291e-03,  2.07515520e-03,\n",
       "          1.54487425e-03],\n",
       "        [-6.89500164e-02,  1.35517617e-01,  9.96744040e-02,\n",
       "          4.03571120e-01, -1.73484545e-01,  3.07123919e-02,\n",
       "         -6.99426954e-01,  3.93440645e-01,  9.80874632e-03,\n",
       "          3.06830161e-01, -2.05646548e-02, -2.94722887e-02,\n",
       "          1.83057401e-01]])"
      ]
     },
     "execution_count": 12,
     "metadata": {},
     "output_type": "execute_result"
    }
   ],
   "source": [
    "eigVects"
   ]
  },
  {
   "cell_type": "code",
   "execution_count": 13,
   "metadata": {},
   "outputs": [
    {
     "data": {
      "text/plain": [
       "(13, 13)"
      ]
     },
     "execution_count": 13,
     "metadata": {},
     "output_type": "execute_result"
    }
   ],
   "source": [
    "eigVects.shape"
   ]
  },
  {
   "cell_type": "code",
   "execution_count": 14,
   "metadata": {},
   "outputs": [
    {
     "data": {
      "text/plain": [
       "array([0, 1, 2, 3], dtype=int64)"
      ]
     },
     "execution_count": 14,
     "metadata": {},
     "output_type": "execute_result"
    }
   ],
   "source": [
    "#对特征值排序\n",
    "eigvalInd = np.argsort(eigVals)\n",
    "#提取出最大的N个特征\n",
    "N = 4\n",
    "eigvalInd = eigvalInd[:-(N+1):-1]\n",
    "eigvalInd"
   ]
  },
  {
   "cell_type": "code",
   "execution_count": 15,
   "metadata": {},
   "outputs": [
    {
     "data": {
      "text/plain": [
       "matrix([[-0.27403983,  0.81759873, -0.46553563, -0.1368518 ],\n",
       "        [ 0.09779417, -0.33811238, -0.81658682,  0.32490528],\n",
       "        [-0.04986904,  0.09469527,  0.1066207 ,  0.1489187 ],\n",
       "        [ 0.00222392, -0.00146362,  0.0111929 , -0.01306897],\n",
       "        [-0.06552624,  0.11608332,  0.12634579,  0.12055701],\n",
       "        [ 0.03510928, -0.12657118, -0.134795  , -0.79919854],\n",
       "        [-0.04347764,  0.10227013,  0.13078524,  0.06902656],\n",
       "        [ 0.05567516, -0.13366342, -0.18286047,  0.01346029],\n",
       "        [-0.04991395,  0.08607292,  0.00224614,  0.03714351],\n",
       "        [-0.04943918,  0.08209467,  0.01202667,  0.09326235],\n",
       "        [-0.03757264,  0.10849695,  0.10101306,  0.14805145],\n",
       "        [ 0.94404914,  0.32578767, -0.00230133,  0.01720585],\n",
       "        [-0.06895002,  0.13551762,  0.0996744 ,  0.40357112]])"
      ]
     },
     "execution_count": 15,
     "metadata": {},
     "output_type": "execute_result"
    }
   ],
   "source": [
    "redEigVects = eigVects[:,eigvalInd]\n",
    "redEigVects"
   ]
  },
  {
   "cell_type": "code",
   "execution_count": 16,
   "metadata": {},
   "outputs": [
    {
     "data": {
      "text/plain": [
       "(13, 4)"
      ]
     },
     "execution_count": 16,
     "metadata": {},
     "output_type": "execute_result"
    }
   ],
   "source": [
    "redEigVects.shape"
   ]
  },
  {
   "cell_type": "code",
   "execution_count": 17,
   "metadata": {},
   "outputs": [
    {
     "data": {
      "text/plain": [
       "matrix([[ 2.43605836, -0.82922334, -0.3442816 , -0.67842483],\n",
       "        [ 2.23845099, -0.18228044,  0.96377865, -0.64735603],\n",
       "        [ 2.14043476, -0.49377525,  0.71715854, -1.7627982 ],\n",
       "        [ 2.26569515, -0.53214055,  0.61985902, -1.62812298],\n",
       "        [ 2.35103659, -0.4637742 ,  0.63253372, -1.68802055],\n",
       "        [ 2.18630188, -0.37949462,  0.78746419, -0.86535017],\n",
       "        [ 2.24385071, -0.48876222,  0.13926888,  0.19618023],\n",
       "        [ 2.24117641, -0.34626155,  0.22444796,  0.33216104],\n",
       "        [ 1.65648495, -0.24432851,  0.43387114,  1.39252409],\n",
       "        [ 1.79434297, -0.54963248,  0.1689128 ,  0.41902989]])"
      ]
     },
     "execution_count": 17,
     "metadata": {},
     "output_type": "execute_result"
    }
   ],
   "source": [
    "lowDDataMat = np.mat(meanRemoved) * redEigVects\n",
    "lowDDataMat[:10]"
   ]
  },
  {
   "cell_type": "code",
   "execution_count": 18,
   "metadata": {},
   "outputs": [
    {
     "data": {
      "text/plain": [
       "matrix([[-1.22012408e-01,  1.46829459e+00, -2.27509402e-01, ...,\n",
       "         -5.23858931e-01,  2.59072858e-01, -4.60606951e-01],\n",
       "        [-1.52120897e-01,  1.72179990e-01, -1.22994496e-02, ...,\n",
       "         -3.09512020e-01,  2.80812102e-01, -2.16391161e-01],\n",
       "        [-1.12477586e-01,  1.06888510e-01, -2.29313566e-01, ...,\n",
       "         -5.29680209e-01,  6.81742145e-02, -7.26587937e-01],\n",
       "        ...,\n",
       "        [ 5.23818625e-03, -3.02166548e-01, -2.51617286e-02, ...,\n",
       "         -3.21682849e-01,  2.41915480e-01, -3.40394179e-01],\n",
       "        [ 1.09571597e-03, -2.54390420e-01,  1.97901511e-02, ...,\n",
       "         -2.79341979e-01,  7.86886493e-02, -2.32380398e-01],\n",
       "        [-8.18843317e-02, -1.14954041e-01,  1.83346310e-01, ...,\n",
       "         -1.13404448e-01,  2.70317632e-01,  1.71255685e-01]])"
      ]
     },
     "execution_count": 18,
     "metadata": {},
     "output_type": "execute_result"
    }
   ],
   "source": [
    "reconMat = (lowDDataMat * redEigVects.T) + np.mat(meanVals)\n",
    "reconMat"
   ]
  },
  {
   "cell_type": "code",
   "execution_count": 19,
   "metadata": {},
   "outputs": [
    {
     "data": {
      "text/plain": [
       "(490, 13)"
      ]
     },
     "execution_count": 19,
     "metadata": {},
     "output_type": "execute_result"
    }
   ],
   "source": [
    "reconMat.shape"
   ]
  },
  {
   "cell_type": "code",
   "execution_count": 20,
   "metadata": {},
   "outputs": [
    {
     "data": {
      "text/plain": [
       "<matplotlib.collections.PathCollection at 0x1f500ca05c0>"
      ]
     },
     "execution_count": 20,
     "metadata": {},
     "output_type": "execute_result"
    }
   ],
   "source": [
    "import matplotlib.pyplot as plt\n",
    "plt.scatter(df.iloc[:,5],df.iloc[:,13],marker = '.',c = 'orange')\n",
    "plt.scatter(reconMat[:,5].A.flatten(),np.mat(df.iloc[:,13]).A.flatten(),marker = '*',c = 'g')"
   ]
  },
  {
   "cell_type": "code",
   "execution_count": 21,
   "metadata": {},
   "outputs": [
    {
     "data": {
      "image/png": "[encoded data removed]",
      "text/plain": [
       "<matplotlib.figure.Figure at 0x1f500ad8ba8>"
      ]
     },
     "metadata": {},
     "output_type": "display_data"
    }
   ],
   "source": [
    "plt.show()"
   ]
  },
  {
   "cell_type": "code",
   "execution_count": 22,
   "metadata": {},
   "outputs": [
    {
     "data": {
      "text/plain": [
       "34.13932013678725"
      ]
     },
     "execution_count": 22,
     "metadata": {},
     "output_type": "execute_result"
    }
   ],
   "source": [
    "eigVals.sum()"
   ]
  },
  {
   "cell_type": "code",
   "execution_count": 23,
   "metadata": {
    "collapsed": true
   },
   "outputs": [],
   "source": [
    "y = np.array(eigVals/eigVals.sum())"
   ]
  },
  {
   "cell_type": "code",
   "execution_count": 24,
   "metadata": {},
   "outputs": [
    {
     "data": {
      "text/plain": [
       "array([6.57095317e-01, 1.67076125e-01, 1.02436032e-01, 2.65316734e-02,\n",
       "       1.65969000e-02, 1.31906607e-02, 5.08694888e-03, 3.66028010e-03,\n",
       "       3.71201344e-04, 2.47198209e-03, 1.55315692e-03, 2.05803910e-03,\n",
       "       1.87168352e-03])"
      ]
     },
     "execution_count": 24,
     "metadata": {},
     "output_type": "execute_result"
    }
   ],
   "source": [
    "y"
   ]
  },
  {
   "cell_type": "code",
   "execution_count": 25,
   "metadata": {
    "collapsed": true
   },
   "outputs": [],
   "source": [
    "x = np.linspace(1,13,13)"
   ]
  },
  {
   "cell_type": "code",
   "execution_count": 26,
   "metadata": {},
   "outputs": [
    {
     "data": {
      "text/plain": [
       "array([ 1.,  2.,  3.,  4.,  5.,  6.,  7.,  8.,  9., 10., 11., 12., 13.])"
      ]
     },
     "execution_count": 26,
     "metadata": {},
     "output_type": "execute_result"
    }
   ],
   "source": [
    "x"
   ]
  },
  {
   "cell_type": "code",
   "execution_count": 27,
   "metadata": {},
   "outputs": [
    {
     "data": {
      "text/plain": [
       "[<matplotlib.lines.Line2D at 0x1f5046a8c50>]"
      ]
     },
     "execution_count": 27,
     "metadata": {},
     "output_type": "execute_result"
    }
   ],
   "source": [
    "plt.plot(x,y,marker = '.')"
   ]
  },
  {
   "cell_type": "code",
   "execution_count": 28,
   "metadata": {},
   "outputs": [
    {
     "data": {
      "image/png": "[encoded data removed]",
      "text/plain": [
       "<matplotlib.figure.Figure at 0x1f5010206d8>"
      ]
     },
     "metadata": {},
     "output_type": "display_data"
    }
   ],
   "source": [
    "plt.show()"
   ]
  },
  {
   "cell_type": "code",
   "execution_count": 29,
   "metadata": {},
   "outputs": [
    {
     "name": "stdout",
     "output_type": "stream",
     "text": [
      "MSE train: 0.186, test: 0.136\n",
      "R^2 train: 0.820, test: 0.810\n"
     ]
    }
   ],
   "source": [
    "from sklearn.tree import DecisionTreeRegressor\n",
    "from sklearn.model_selection import train_test_split\n",
    "\n",
    "#http://scikit-learn.org/stable/modules/generated/sklearn.tree.DecisionTreeRegressor.html#sklearn.tree.DecisionTreeRegressor\n",
    "\n",
    "X = reconMat\n",
    "\n",
    "y = df.iloc[:,-1]\n",
    "\n",
    "X_train, X_test, y_train, y_test = train_test_split(X, y, test_size=0.2, random_state=20)\n",
    "\n",
    "\n",
    "tree = DecisionTreeRegressor(max_depth=3)   #max_depth设置树深\n",
    "\n",
    "tree.fit(X, y)   #参考官网attributes部分了解建模后得到的各种属性:树，使用的特征及特征重要性\n",
    "\n",
    "y_train_pred = tree.predict(X_train)\n",
    "y_test_pred = tree.predict(X_test)\n",
    "from sklearn.metrics import r2_score\n",
    "\n",
    "from sklearn.metrics import mean_squared_error   #均方误差回归损失\n",
    "\n",
    "\n",
    "print('MSE train: %.3f, test: %.3f' % (mean_squared_error(y_train, y_train_pred),mean_squared_error(y_test, y_test_pred)))\n",
    "\n",
    "print('R^2 train: %.3f, test: %.3f' % (r2_score(y_train, y_train_pred),r2_score(y_test, y_test_pred)))\n"
   ]
  },
  {
   "cell_type": "code",
   "execution_count": 30,
   "metadata": {},
   "outputs": [
    {
     "name": "stdout",
     "output_type": "stream",
     "text": [
      "MSE train: 15.351, test: 15.711\n",
      "R^2 train: 0.828, test: 0.756\n"
     ]
    }
   ],
   "source": [
    "from sklearn.tree import DecisionTreeRegressor\n",
    "from sklearn.model_selection import train_test_split\n",
    "\n",
    "#http://scikit-learn.org/stable/modules/generated/sklearn.tree.DecisionTreeRegressor.html#sklearn.tree.DecisionTreeRegressor\n",
    "\n",
    "X = pre.iloc[:,:-1]\n",
    "\n",
    "y = pre.iloc[:,-1]\n",
    "\n",
    "X_train, X_test, y_train, y_test = train_test_split(X, y, test_size=0.2, random_state=20)\n",
    "\n",
    "\n",
    "tree = DecisionTreeRegressor(max_depth=3)   #max_depth设置树深\n",
    "\n",
    "tree.fit(X, y)   #参考官网attributes部分了解建模后得到的各种属性:树，使用的特征及特征重要性\n",
    "\n",
    "y_train_pred = tree.predict(X_train)\n",
    "y_test_pred = tree.predict(X_test)\n",
    "from sklearn.metrics import r2_score\n",
    "\n",
    "from sklearn.metrics import mean_squared_error   #均方误差回归损失\n",
    "\n",
    "\n",
    "print('MSE train: %.3f, test: %.3f' % (mean_squared_error(y_train, y_train_pred),mean_squared_error(y_test, y_test_pred)))\n",
    "\n",
    "print('R^2 train: %.3f, test: %.3f' % (r2_score(y_train, y_train_pred),r2_score(y_test, y_test_pred)))\n"
   ]
  },
  {
   "cell_type": "code",
   "execution_count": 31,
   "metadata": {
    "collapsed": true
   },
   "outputs": [],
   "source": [
    "from sklearn.model_selection import learning_curve\n",
    "from sklearn.model_selection import ShuffleSplit\n",
    "\n",
    "def plot_learning_curve(estimator, title, X, y, ylim=None, cv=None,n_jobs=None, train_sizes=np.linspace(.1, 1.0, 5)):\n",
    "    plt.figure()\n",
    "    plt.title(title)\n",
    "    if ylim is not None:\n",
    "        plt.ylim(*ylim)\n",
    "    plt.xlabel(\"Training examples\")\n",
    "    plt.ylabel(\"Score\")\n",
    "    train_sizes, train_scores, test_scores = learning_curve(\n",
    "        estimator, X, y, cv=cv, n_jobs=n_jobs, train_sizes=train_sizes)\n",
    "    train_scores_mean = np.mean(train_scores, axis=1)\n",
    "    train_scores_std = np.std(train_scores, axis=1)\n",
    "    test_scores_mean = np.mean(test_scores, axis=1)\n",
    "    print(test_scores_mean)\n",
    "    test_scores_std = np.std(test_scores, axis=1)\n",
    "    plt.grid()\n",
    "\n",
    "    plt.fill_between(train_sizes, train_scores_mean - train_scores_std,\n",
    "                     train_scores_mean + train_scores_std, alpha=0.1,\n",
    "                     color=\"r\")\n",
    "    plt.fill_between(train_sizes, test_scores_mean - test_scores_std,\n",
    "                     test_scores_mean + test_scores_std, alpha=0.1, color=\"g\")\n",
    "    plt.plot(train_sizes, train_scores_mean, 'o-', color=\"r\",\n",
    "             label=\"Training score\")\n",
    "    plt.plot(train_sizes, test_scores_mean, 'o-', color=\"g\",\n",
    "             label=\"Cross-validation score\")\n",
    "\n",
    "    plt.legend(loc=\"best\")\n",
    "    return plt\n"
   ]
  },
  {
   "cell_type": "code",
   "execution_count": 32,
   "metadata": {},
   "outputs": [
    {
     "name": "stderr",
     "output_type": "stream",
     "text": [
      "C:\\Program Files (x86)\\Microsoft Visual Studio\\Shared\\Anaconda3_64\\lib\\site-packages\\sklearn\\model_selection\\_validation.py:1103: FutureWarning: Conversion of the second argument of issubdtype from `float` to `np.floating` is deprecated. In future, it will be treated as `np.float64 == np.dtype(float).type`.\n",
      "  if np.issubdtype(train_sizes_abs.dtype, np.float):\n"
     ]
    },
    {
     "name": "stdout",
     "output_type": "stream",
     "text": [
      "[0.57395951 0.69354385 0.72160916 0.72536108 0.73188599]\n"
     ]
    },
    {
     "data": {
      "text/plain": [
       "<module 'matplotlib.pyplot' from 'C:\\\\Program Files (x86)\\\\Microsoft Visual Studio\\\\Shared\\\\Anaconda3_64\\\\lib\\\\site-packages\\\\matplotlib\\\\pyplot.py'>"
      ]
     },
     "execution_count": 32,
     "metadata": {},
     "output_type": "execute_result"
    }
   ],
   "source": [
    "estimator = DecisionTreeRegressor(max_depth=3)\n",
    "title = \"Learning Curves\"\n",
    "X = np.array(reconMat)\n",
    "y = np.array(df.iloc[:,-1])\n",
    "cv = ShuffleSplit(n_splits=100, test_size=0.2, random_state=0)\n",
    "plot_learning_curve(estimator, title, X, y, ylim=(0.1, 1.01), cv=cv, n_jobs=4)\n"
   ]
  },
  {
   "cell_type": "code",
   "execution_count": 33,
   "metadata": {
    "scrolled": true
   },
   "outputs": [
    {
     "data": {
      "image/png": "[encoded data removed]",
      "text/plain": [
       "<matplotlib.figure.Figure at 0x1f501047128>"
      ]
     },
     "metadata": {},
     "output_type": "display_data"
    }
   ],
   "source": [
    "plt.show()"
   ]
  },
  {
   "cell_type": "code",
   "execution_count": 34,
   "metadata": {},
   "outputs": [
    {
     "name": "stderr",
     "output_type": "stream",
     "text": [
      "C:\\Program Files (x86)\\Microsoft Visual Studio\\Shared\\Anaconda3_64\\lib\\site-packages\\sklearn\\model_selection\\_validation.py:1103: FutureWarning: Conversion of the second argument of issubdtype from `float` to `np.floating` is deprecated. In future, it will be treated as `np.float64 == np.dtype(float).type`.\n",
      "  if np.issubdtype(train_sizes_abs.dtype, np.float):\n"
     ]
    },
    {
     "name": "stdout",
     "output_type": "stream",
     "text": [
      "[0.41191454 0.63159578 0.68944156 0.65896137 0.66313563]\n"
     ]
    },
    {
     "data": {
      "text/plain": [
       "<module 'matplotlib.pyplot' from 'C:\\\\Program Files (x86)\\\\Microsoft Visual Studio\\\\Shared\\\\Anaconda3_64\\\\lib\\\\site-packages\\\\matplotlib\\\\pyplot.py'>"
      ]
     },
     "execution_count": 34,
     "metadata": {},
     "output_type": "execute_result"
    }
   ],
   "source": [
    "estimator = DecisionTreeRegressor(max_depth=3)\n",
    "title = \"Learning Curves\"\n",
    "X = np.array(pre.iloc[:,:-1])\n",
    "y = np.array(pre.iloc[:,-1])\n",
    "cv = ShuffleSplit(n_splits=10, test_size=0.2, random_state=0)\n",
    "plot_learning_curve(estimator, title, X, y, ylim=(0.1, 1.01), cv=cv, n_jobs=4)\n"
   ]
  },
  {
   "cell_type": "code",
   "execution_count": 35,
   "metadata": {},
   "outputs": [
    {
     "data": {
      "image/png": "[encoded data removed]",
      "text/plain": [
       "<matplotlib.figure.Figure at 0x1f504a63160>"
      ]
     },
     "metadata": {},
     "output_type": "display_data"
    }
   ],
   "source": [
    "plt.show()"
   ]
  },
  {
   "cell_type": "code",
   "execution_count": 36,
   "metadata": {},
   "outputs": [
    {
     "name": "stdout",
     "output_type": "stream",
     "text": [
      "{'max_depth': [1, 2, 3, 4, 5, 6, 7, 8, 9, 10]}\n",
      "Test set score:0.81\n",
      "Best parameters:{'max_depth': 3}\n",
      "Best score on train set:0.73\n"
     ]
    }
   ],
   "source": [
    "from sklearn.model_selection import GridSearchCV\n",
    "from sklearn.tree import DecisionTreeRegressor\n",
    "X = np.array(reconMat)\n",
    "y = np.array(df.iloc[:,-1])\n",
    "depth = list(range(1,11))\n",
    "param_grid = dict(max_depth = depth)\n",
    "estimator = DecisionTreeRegressor(max_depth = 3)\n",
    "grid_search = GridSearchCV(estimator,param_grid,cv=10)\n",
    "X_train,X_test,y_train,y_test = train_test_split(X,y,random_state=5)\n",
    "print(param_grid)\n",
    "grid_search = grid_search.fit(X_train,y_train)\n",
    "print(\"Test set score:{:.2f}\".format(grid_search.score(X_test,y_test)))\n",
    "print(\"Best parameters:{}\".format(grid_search.best_params_))\n",
    "print(\"Best score on train set:{:.2f}\".format(grid_search.best_score_))\n"
   ]
  },
  {
   "cell_type": "code",
   "execution_count": null,
   "metadata": {
    "collapsed": true
   },
   "outputs": [],
   "source": []
  }
 ],
 "metadata": {
  "kernelspec": {
   "display_name": "Python 3",
   "language": "python",
   "name": "python3"
  },
  "language_info": {
   "codemirror_mode": {
    "name": "ipython",
    "version": 3
   },
   "file_extension": ".py",
   "mimetype": "text/x-python",
   "name": "python",
   "nbconvert_exporter": "python",
   "pygments_lexer": "ipython3",
   "version": "3.6.2"
  }
 },
 "nbformat": 4,
 "nbformat_minor": 2
}
