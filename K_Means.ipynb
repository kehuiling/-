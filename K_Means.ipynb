{
 "cells": [
  {
   "cell_type": "code",
   "execution_count": 154,
   "metadata": {},
   "outputs": [],
   "source": [
    "import numpy as np\n",
    "import pandas as pd\n",
    "import matplotlib.pyplot as plt\n",
    "import sklearn.datasets as datasets\n",
    "\n",
    "data = datasets.load_iris()\n",
    "dataSet = pd.concat([pd.DataFrame(data.data),pd.DataFrame(data.target)],axis = 1)\n",
    "dataSet = pd.DataFrame(dataSet)\n"
   ]
  },
  {
   "cell_type": "code",
   "execution_count": 155,
   "metadata": {},
   "outputs": [
    {
     "data": {
      "image/png": "[encoded data removed]",
      "text/plain": [
       "<matplotlib.figure.Figure at 0x2986c650470>"
      ]
     },
     "metadata": {},
     "output_type": "display_data"
    }
   ],
   "source": [
    "fig = plt.figure(figsize = (10,10))\n",
    "fig1 = fig.add_subplot(221)\n",
    "plt.scatter(dataSet.iloc[:,0],dataSet.iloc[:,1],c = 'r')\n",
    "fig2 = fig.add_subplot(222)\n",
    "plt.scatter(dataSet.iloc[:,1],dataSet.iloc[:,2],c = 'r')\n",
    "fig2 = fig.add_subplot(223)\n",
    "plt.scatter(dataSet.iloc[:,2],dataSet.iloc[:,3],c = 'r')\n",
    "fig2 = fig.add_subplot(224)\n",
    "plt.scatter(dataSet.iloc[:,0],dataSet.iloc[:,3],c = 'r')\n",
    "plt.show()"
   ]
  },
  {
   "cell_type": "code",
   "execution_count": 156,
   "metadata": {
    "collapsed": true
   },
   "outputs": [],
   "source": [
    "'''\n",
    "function:计算两个函数之间的欧式距离\n",
    "param:\n",
    "    两个array数据集\n",
    "return:\n",
    "    两个数据集之间的欧式距离（此处用距离平方和代替距离）\n",
    "'''\n",
    "def distEclud(arrA,arrB):\n",
    "    d = arrA - arrB\n",
    "    dist = np.sum(np.power(d,2),axis = 1)\n",
    "    return dist"
   ]
  },
  {
   "cell_type": "code",
   "execution_count": 157,
   "metadata": {},
   "outputs": [],
   "source": [
    "'''\n",
    "function:随机生成k个质心\n",
    "param:\n",
    "    dataSet:包含标签的数据集\n",
    "    k:簇的个数\n",
    "return：\n",
    "    data_cent:k个质心\n",
    "'''\n",
    "def randCent(dataSet,k):\n",
    "    n = dataSet.shape[1]\n",
    "    data_min = dataSet.iloc[:,:n - 1].min()\n",
    "    data_max = dataSet.iloc[:,n - 1].max()\n",
    "    data_cent = np.random.uniform(data_min,data_max,(k,n-1))\n",
    "    return data_cent"
   ]
  },
  {
   "cell_type": "code",
   "execution_count": 158,
   "metadata": {},
   "outputs": [],
   "source": [
    "data_cent = randCent(dataSet,2)"
   ]
  },
  {
   "cell_type": "code",
   "execution_count": 159,
   "metadata": {},
   "outputs": [
    {
     "data": {
      "text/plain": [
       "array([[2.60268925, 2.        , 1.09679725, 0.93847275],\n",
       "       [2.76856846, 2.        , 1.51624905, 0.93390343]])"
      ]
     },
     "execution_count": 159,
     "metadata": {},
     "output_type": "execute_result"
    }
   ],
   "source": [
    "data_cent"
   ]
  },
  {
   "cell_type": "code",
   "execution_count": 160,
   "metadata": {},
   "outputs": [],
   "source": [
    "'''\n",
    "function:k-均值聚类算法\n",
    "param:\n",
    "    dataSet:带标签的数据集\n",
    "    k:簇的个数\n",
    "    disMeas:距离计算函数\n",
    "    createCent:随机质心生成函数\n",
    "return:\n",
    "    centroids:质心\n",
    "    result_set:所有数据划分结果\n",
    "'''\n",
    "def kMeans(dataSet,k,distMeas = distEclud,createCent = randCent):\n",
    "    m,n = dataSet.shape\n",
    "    centroids = createCent(dataSet,k)\n",
    "    clusterAssment = np.zeros((m,3))\n",
    "    clusterAssment[:,0] = np.inf\n",
    "    clusterAssment[:,1:3] = -1\n",
    "    result_set = pd.concat([dataSet,pd.DataFrame(clusterAssment)],axis = 1,\n",
    "                          ignore_index = True)\n",
    "    clusterChanged = True\n",
    "    while clusterChanged:\n",
    "        clusterChanged = False\n",
    "        for i in range(m):\n",
    "            dist = distMeas(dataSet.iloc[i,:n-1].values,centroids)\n",
    "            result_set.iloc[i,n] = dist.min()\n",
    "            result_set.iloc[i,n+1] = np.where(dist == dist.min())[0]\n",
    "        clusterChanged = not(result_set.iloc[:,-1] == result_set.iloc[:,-2]).all()\n",
    "        if clusterChanged:\n",
    "            cent_df = result_set.groupby(n+1).mean()\n",
    "            centroids = cent_df.iloc[:,:n-1].values\n",
    "            result_set.iloc[:,-1] = result_set.iloc[:,-2]\n",
    "    return centroids,result_set\n",
    "    "
   ]
  },
  {
   "cell_type": "code",
   "execution_count": 161,
   "metadata": {},
   "outputs": [],
   "source": [
    "data_cents,data_result = kMeans(dataSet,4)"
   ]
  },
  {
   "cell_type": "code",
   "execution_count": 162,
   "metadata": {},
   "outputs": [
    {
     "data": {
      "text/html": [
       "<div>\n",
       "<style>\n",
       "    .dataframe thead tr:only-child th {\n",
       "        text-align: right;\n",
       "    }\n",
       "\n",
       "    .dataframe thead th {\n",
       "        text-align: left;\n",
       "    }\n",
       "\n",
       "    .dataframe tbody tr th {\n",
       "        vertical-align: top;\n",
       "    }\n",
       "</style>\n",
       "<table border=\"1\" class=\"dataframe\">\n",
       "  <thead>\n",
       "    <tr style=\"text-align: right;\">\n",
       "      <th></th>\n",
       "      <th>0</th>\n",
       "      <th>1</th>\n",
       "      <th>2</th>\n",
       "      <th>3</th>\n",
       "      <th>4</th>\n",
       "      <th>5</th>\n",
       "      <th>6</th>\n",
       "      <th>7</th>\n",
       "    </tr>\n",
       "  </thead>\n",
       "  <tbody>\n",
       "    <tr>\n",
       "      <th>0</th>\n",
       "      <td>5.1</td>\n",
       "      <td>3.5</td>\n",
       "      <td>1.4</td>\n",
       "      <td>0.2</td>\n",
       "      <td>0</td>\n",
       "      <td>0.118730</td>\n",
       "      <td>0.0</td>\n",
       "      <td>0.0</td>\n",
       "    </tr>\n",
       "    <tr>\n",
       "      <th>1</th>\n",
       "      <td>4.9</td>\n",
       "      <td>3.0</td>\n",
       "      <td>1.4</td>\n",
       "      <td>0.2</td>\n",
       "      <td>0</td>\n",
       "      <td>0.048450</td>\n",
       "      <td>1.0</td>\n",
       "      <td>1.0</td>\n",
       "    </tr>\n",
       "    <tr>\n",
       "      <th>2</th>\n",
       "      <td>4.7</td>\n",
       "      <td>3.2</td>\n",
       "      <td>1.3</td>\n",
       "      <td>0.2</td>\n",
       "      <td>0</td>\n",
       "      <td>0.017541</td>\n",
       "      <td>1.0</td>\n",
       "      <td>1.0</td>\n",
       "    </tr>\n",
       "    <tr>\n",
       "      <th>3</th>\n",
       "      <td>4.6</td>\n",
       "      <td>3.1</td>\n",
       "      <td>1.5</td>\n",
       "      <td>0.2</td>\n",
       "      <td>0</td>\n",
       "      <td>0.022996</td>\n",
       "      <td>1.0</td>\n",
       "      <td>1.0</td>\n",
       "    </tr>\n",
       "    <tr>\n",
       "      <th>4</th>\n",
       "      <td>5.0</td>\n",
       "      <td>3.6</td>\n",
       "      <td>1.4</td>\n",
       "      <td>0.2</td>\n",
       "      <td>0</td>\n",
       "      <td>0.154214</td>\n",
       "      <td>0.0</td>\n",
       "      <td>0.0</td>\n",
       "    </tr>\n",
       "  </tbody>\n",
       "</table>\n",
       "</div>"
      ],
      "text/plain": [
       "     0    1    2    3  4         5    6    7\n",
       "0  5.1  3.5  1.4  0.2  0  0.118730  0.0  0.0\n",
       "1  4.9  3.0  1.4  0.2  0  0.048450  1.0  1.0\n",
       "2  4.7  3.2  1.3  0.2  0  0.017541  1.0  1.0\n",
       "3  4.6  3.1  1.5  0.2  0  0.022996  1.0  1.0\n",
       "4  5.0  3.6  1.4  0.2  0  0.154214  0.0  0.0"
      ]
     },
     "execution_count": 162,
     "metadata": {},
     "output_type": "execute_result"
    }
   ],
   "source": [
    "data_result.head()"
   ]
  },
  {
   "cell_type": "code",
   "execution_count": 163,
   "metadata": {},
   "outputs": [
    {
     "data": {
      "text/plain": [
       "array([[5.21612903, 3.53870968, 1.68064516, 0.35806452],\n",
       "       [4.70909091, 3.10909091, 1.39545455, 0.19090909],\n",
       "       [6.30103093, 2.88659794, 4.95876289, 1.69587629]])"
      ]
     },
     "execution_count": 163,
     "metadata": {},
     "output_type": "execute_result"
    }
   ],
   "source": [
    "data_cents"
   ]
  },
  {
   "cell_type": "code",
   "execution_count": 164,
   "metadata": {},
   "outputs": [
    {
     "data": {
      "image/png": "[encoded data removed]",
      "text/plain": [
       "<matplotlib.figure.Figure at 0x2986bb91278>"
      ]
     },
     "metadata": {},
     "output_type": "display_data"
    }
   ],
   "source": [
    "plt.scatter(data_result.iloc[:,1],data_result.iloc[:,2],c = data_result.iloc[:,-1])\n",
    "plt.scatter(data_cents[:,1],data_cents[:,2],color = 'r',marker='x',s=80)\n",
    "plt.show()"
   ]
  },
  {
   "cell_type": "code",
   "execution_count": 175,
   "metadata": {
    "collapsed": true
   },
   "outputs": [],
   "source": [
    "'''\n",
    "function：聚类学习曲线\n",
    "param:\n",
    "    dataSet:原始数据集\n",
    "    cluster:lmeans聚类方法\n",
    "    k：簇的个数\n",
    "return:\n",
    "    误差平方和\n",
    "'''\n",
    "def kclearningCurve(dataSet,cluster = kMeans,k=10):\n",
    "    n = dataSet.shape[1]\n",
    "    SSE = []\n",
    "    for i in range(1,k):\n",
    "        centroids,result_set = cluster(dataSet,i+1)\n",
    "        SSE.append(result_set.iloc[:,n].sum())\n",
    "    plt.plot(range(2,k+1),SSE,'--o')\n",
    "    return SSE"
   ]
  },
  {
   "cell_type": "code",
   "execution_count": 176,
   "metadata": {},
   "outputs": [
    {
     "data": {
      "text/plain": [
       "[680.8243999999997,\n",
       " 152.36870647733917,\n",
       " 152.36870647733917,\n",
       " 145.27932203646048,\n",
       " 152.36870647733917,\n",
       " 78.94084142614598,\n",
       " 57.34540931571815,\n",
       " 152.36870647733917,\n",
       " 78.94506582597724]"
      ]
     },
     "execution_count": 176,
     "metadata": {},
     "output_type": "execute_result"
    }
   ],
   "source": [
    "kclearningCurve(dataSet)"
   ]
  },
  {
   "cell_type": "code",
   "execution_count": 177,
   "metadata": {},
   "outputs": [
    {
     "data": {
      "image/png": "[encoded data removed]",
      "text/plain": [
       "<matplotlib.figure.Figure at 0x29867bf3710>"
      ]
     },
     "metadata": {},
     "output_type": "display_data"
    }
   ],
   "source": [
    "plt.show()"
   ]
  },
  {
   "cell_type": "code",
   "execution_count": null,
   "metadata": {
    "collapsed": true
   },
   "outputs": [],
   "source": []
  }
 ],
 "metadata": {
  "kernelspec": {
   "display_name": "Python 3",
   "language": "python",
   "name": "python3"
  },
  "language_info": {
   "codemirror_mode": {
    "name": "ipython",
    "version": 3
   },
   "file_extension": ".py",
   "mimetype": "text/x-python",
   "name": "python",
   "nbconvert_exporter": "python",
   "pygments_lexer": "ipython3",
   "version": "3.6.2"
  }
 },
 "nbformat": 4,
 "nbformat_minor": 2
}
